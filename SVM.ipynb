{
 "cells": [
  {
   "cell_type": "code",
   "execution_count": 69,
   "metadata": {},
   "outputs": [
    {
     "name": "stdout",
     "output_type": "stream",
     "text": [
      "\n",
      "🔄 Loading training images from: C:\\Users\\Sahil Raj\\Downloads\\cat-v-dog\\dogs_cats_sample_1000\\train...\n",
      "✅ Processing cats images...\n"
     ]
    },
    {
     "name": "stderr",
     "output_type": "stream",
     "text": [
      "100%|███████████████████████████████████████████████████████████████████████████████| 500/500 [00:00<00:00, 779.68it/s]\n"
     ]
    },
    {
     "name": "stdout",
     "output_type": "stream",
     "text": [
      "✅ Processing dogs images...\n"
     ]
    },
    {
     "name": "stderr",
     "output_type": "stream",
     "text": [
      "100%|███████████████████████████████████████████████████████████████████████████████| 500/500 [00:00<00:00, 755.07it/s]\n"
     ]
    },
    {
     "name": "stdout",
     "output_type": "stream",
     "text": [
      "\n",
      "✅ Training Data Loaded: (1000, 4356)\n",
      "\n",
      "🚀 Training SVM Model...\n",
      "✅ Model Training Complete!\n",
      "\n",
      "🔄 Loading testing images from: C:\\Users\\Sahil Raj\\Downloads\\cat-v-dog\\dogs_cats_sample_1000\\test...\n",
      "✅ Processing cats images...\n"
     ]
    },
    {
     "name": "stderr",
     "output_type": "stream",
     "text": [
      "100%|███████████████████████████████████████████████████████████████████████████████| 500/500 [00:00<00:00, 940.80it/s]\n"
     ]
    },
    {
     "name": "stdout",
     "output_type": "stream",
     "text": [
      "✅ Processing dogs images...\n"
     ]
    },
    {
     "name": "stderr",
     "output_type": "stream",
     "text": [
      "100%|███████████████████████████████████████████████████████████████████████████████| 500/500 [00:00<00:00, 887.02it/s]\n"
     ]
    },
    {
     "name": "stdout",
     "output_type": "stream",
     "text": [
      "\n",
      "✅ Testing Data Loaded: (1000, 4356)\n",
      "\n",
      "🎯 Predictions on Test Set (1 = Dog, 0 = Cat): [0 0 1 0 0 1 0 0 0 0]\n",
      "✅ Predicted Cats: 555\n",
      "✅ Predicted Dogs: 445\n",
      "\n",
      "✅ Classification Report:\n",
      "               precision    recall  f1-score   support\n",
      "\n",
      "           0       0.69      0.77      0.73       500\n",
      "           1       0.74      0.66      0.70       500\n",
      "\n",
      "    accuracy                           0.71      1000\n",
      "   macro avg       0.72      0.71      0.71      1000\n",
      "weighted avg       0.72      0.71      0.71      1000\n",
      "\n",
      "\n",
      "✅ Model saved as 'cat_dog_svm_model.pkl'\n"
     ]
    }
   ],
   "source": [
    "import os\n",
    "import numpy as np\n",
    "import cv2\n",
    "import matplotlib.pyplot as plt\n",
    "from skimage.feature import hog\n",
    "from sklearn.svm import SVC\n",
    "from sklearn.metrics import accuracy_score, classification_report\n",
    "from tqdm import tqdm\n",
    "from joblib import Parallel, delayed\n",
    "from sklearn.utils import shuffle\n",
    "\n",
    "# ✅ Update dataset paths based on your folder structure\n",
    "base_dir = r\"C:\\Users\\Sahil Raj\\Downloads\\cat-v-dog\\dogs_cats_sample_1000\"\n",
    "train_dir = os.path.join(base_dir, \"train\")  # ✅ Train folder (contains 'cats' & 'dogs' subfolders)\n",
    "test_dir = os.path.join(base_dir, \"test\")  # ✅ Test folder (contains 'cats' & 'dogs' subfolders)\n",
    "\n",
    "# ✅ Image processing parameters\n",
    "image_size = (96, 96)  # Increased size for better feature extraction\n",
    "categories = [\"cats\", \"dogs\"]  # Subfolders inside train and test\n",
    "label_map = {\"cats\": 0, \"dogs\": 1}  # Assign labels\n",
    "\n",
    "# ✅ Function to extract HOG features\n",
    "def extract_hog_features(image):\n",
    "    return hog(image, orientations=9, pixels_per_cell=(8, 8), \n",
    "               cells_per_block=(2, 2), feature_vector=True)\n",
    "# ✅ Function to load dataset from both 'cats' and 'dogs' subfolders\n",
    "def load_dataset(directory, is_train=True, max_samples=500):\n",
    "    features, labels = [], []\n",
    "    print(f\"\\n🔄 Loading {'training' if is_train else 'testing'} images from: {directory}...\")\n",
    "\n",
    "    for category in categories:\n",
    "        category_path = os.path.join(directory, category)\n",
    "        if not os.path.exists(category_path):\n",
    "            print(f\"⚠ Warning: {category_path} does not exist. Skipping...\")\n",
    "            continue\n",
    "\n",
    "        print(f\"✅ Processing {category} images...\")\n",
    "        image_paths = [os.path.join(category_path, img) for img in os.listdir(category_path) if img.endswith(('.jpg', '.png'))]\n",
    "\n",
    "        if len(image_paths) > max_samples:\n",
    "            image_paths = np.random.choice(image_paths, max_samples, replace=False)  # Equal samples\n",
    "\n",
    "        def process_image(img_path):\n",
    "            img = cv2.imread(img_path, cv2.IMREAD_GRAYSCALE)\n",
    "            if img is None:\n",
    "                return None, None\n",
    "            img = cv2.resize(img, image_size)\n",
    "            return extract_hog_features(img), label_map[category]\n",
    "\n",
    "        results = Parallel(n_jobs=-1)(delayed(process_image)(img_path) for img_path in tqdm(image_paths))\n",
    "\n",
    "        for feature, label in results:\n",
    "            if feature is not None:\n",
    "                features.append(feature)\n",
    "                labels.append(label)\n",
    "\n",
    "    return np.array(features), np.array(labels)\n",
    "# ✅ Load Balanced Training Dataset\n",
    "X_train, y_train = load_dataset(train_dir, is_train=True, max_samples=500)\n",
    "X_train, y_train = shuffle(X_train, y_train)  # Shuffle for better training\n",
    "print(\"\\n✅ Training Data Loaded:\", X_train.shape)\n",
    "\n",
    "if X_train.size == 0 or y_train.size == 0:\n",
    "    raise ValueError(\"🚨 Error: No training images loaded! Check dataset path.\")\n",
    "\n",
    "# ✅ Train SVM Model with optimized hyperparameters\n",
    "print(\"\\n🚀 Training SVM Model...\")\n",
    "svm_model = SVC(kernel='rbf', C=100, gamma='scale', class_weight='balanced')\n",
    "svm_model.fit(X_train, y_train)\n",
    "print(\"✅ Model Training Complete!\")\n",
    "\n",
    "# ✅ Load Balanced Test Dataset\n",
    "X_test, y_test = load_dataset(test_dir, is_train=False, max_samples=500)\n",
    "print(\"\\n✅ Testing Data Loaded:\", X_test.shape)\n",
    "\n",
    "if X_test.size == 0:\n",
    "    raise ValueError(\"🚨 Error: No test images found! Check dataset path.\")\n",
    "\n",
    "# ✅ Predict on Test Dataset\n",
    "y_pred = svm_model.predict(X_test)\n",
    "\n",
    "# ✅ Display Test Results\n",
    "print(\"\\n🎯 Predictions on Test Set (1 = Dog, 0 = Cat):\", y_pred[:10])\n",
    "print(\"✅ Predicted Cats:\", np.sum(y_pred == 0))\n",
    "print(\"✅ Predicted Dogs:\", np.sum(y_pred == 1))\n",
    "print(\"\\n✅ Classification Report:\\n\", classification_report(y_test, y_pred))\n",
    "\n",
    "# ✅ Save the trained model\n",
    "model_filename = \"cat_dog_svm_model.pkl\"\n",
    "joblib.dump(svm_model, model_filename)\n",
    "print(f\"\\n✅ Model saved as '{model_filename}'\")"
   ]
  }
 ],
 "metadata": {
  "kernelspec": {
   "display_name": "Python 3 (ipykernel)",
   "language": "python",
   "name": "python3"
  },
  "language_info": {
   "codemirror_mode": {
    "name": "ipython",
    "version": 3
   },
   "file_extension": ".py",
   "mimetype": "text/x-python",
   "name": "python",
   "nbconvert_exporter": "python",
   "pygments_lexer": "ipython3",
   "version": "3.11.5"
  }
 },
 "nbformat": 4,
 "nbformat_minor": 2
}
